{
 "cells": [
  {
   "cell_type": "code",
   "execution_count": 1,
   "metadata": {},
   "outputs": [],
   "source": [
    "import os\n",
    "import torch\n",
    "import random\n",
    "import argparse\n",
    "import warnings\n",
    "import ollama\n",
    "\n",
    "from peft import AutoPeftModelForCausalLM\n",
    "from trl import setup_chat_format, SFTTrainer\n",
    "from datasets import load_dataset, disable_caching\n",
    "from transformers import AutoTokenizer, AutoModelForCausalLM, BitsAndBytesConfig, TrainingArguments, pipeline\n",
    "\n",
    "from utils import get_preds, get_labels, evaluate\n",
    "\n",
    "warnings.filterwarnings(\"ignore\")"
   ]
  },
  {
   "cell_type": "code",
   "execution_count": 2,
   "metadata": {},
   "outputs": [
    {
     "name": "stdout",
     "output_type": "stream",
     "text": [
      "Running evaluation on cuda:0\n",
      "Loaded 3000 test samples\n"
     ]
    }
   ],
   "source": [
    "# Free CUDA memory\n",
    "torch.cuda.empty_cache()\n",
    "\n",
    "# Reproducibility\n",
    "torch.manual_seed(42)\n",
    "random.seed(42)\n",
    "\n",
    "ADAPTER_ID = \"kahliahogg/mistral-bot\"\n",
    "\n",
    "# GPU/CPU\n",
    "device = torch.device(\"cuda:0\" if torch.cuda.is_available() else \"cpu\")\n",
    "print(f\"Running evaluation on {device}\")\n",
    "\n",
    "# Load test dataset\n",
    "test_prompts = load_dataset(\"json\", data_files=\"data/test_prompts.json\", split=\"train\")\n",
    "print(f\"Loaded {test_prompts.num_rows} test samples\")"
   ]
  },
  {
   "cell_type": "markdown",
   "metadata": {},
   "source": [
    "### Evaluate Finetuned Model"
   ]
  },
  {
   "cell_type": "code",
   "execution_count": 3,
   "metadata": {},
   "outputs": [
    {
     "data": {
      "application/vnd.jupyter.widget-view+json": {
       "model_id": "4be15859ede5439dadc7389ea83be6d5",
       "version_major": 2,
       "version_minor": 0
      },
      "text/plain": [
       "Loading checkpoint shards:   0%|          | 0/2 [00:00<?, ?it/s]"
      ]
     },
     "metadata": {},
     "output_type": "display_data"
    },
    {
     "name": "stderr",
     "output_type": "stream",
     "text": [
      "Special tokens have been added in the vocabulary, make sure the associated word embeddings are fine-tuned or trained.\n",
      "Special tokens have been added in the vocabulary, make sure the associated word embeddings are fine-tuned or trained.\n",
      "The model 'PeftModelForCausalLM' is not supported for text-generation. Supported models are ['BartForCausalLM', 'BertLMHeadModel', 'BertGenerationDecoder', 'BigBirdForCausalLM', 'BigBirdPegasusForCausalLM', 'BioGptForCausalLM', 'BlenderbotForCausalLM', 'BlenderbotSmallForCausalLM', 'BloomForCausalLM', 'CamembertForCausalLM', 'LlamaForCausalLM', 'CodeGenForCausalLM', 'CpmAntForCausalLM', 'CTRLLMHeadModel', 'Data2VecTextForCausalLM', 'ElectraForCausalLM', 'ErnieForCausalLM', 'FalconForCausalLM', 'FuyuForCausalLM', 'GitForCausalLM', 'GPT2LMHeadModel', 'GPT2LMHeadModel', 'GPTBigCodeForCausalLM', 'GPTNeoForCausalLM', 'GPTNeoXForCausalLM', 'GPTNeoXJapaneseForCausalLM', 'GPTJForCausalLM', 'LlamaForCausalLM', 'MarianForCausalLM', 'MBartForCausalLM', 'MegaForCausalLM', 'MegatronBertForCausalLM', 'MistralForCausalLM', 'MixtralForCausalLM', 'MptForCausalLM', 'MusicgenForCausalLM', 'MvpForCausalLM', 'OpenLlamaForCausalLM', 'OpenAIGPTLMHeadModel', 'OPTForCausalLM', 'PegasusForCausalLM', 'PersimmonForCausalLM', 'PhiForCausalLM', 'PLBartForCausalLM', 'ProphetNetForCausalLM', 'QDQBertLMHeadModel', 'ReformerModelWithLMHead', 'RemBertForCausalLM', 'RobertaForCausalLM', 'RobertaPreLayerNormForCausalLM', 'RoCBertForCausalLM', 'RoFormerForCausalLM', 'RwkvForCausalLM', 'Speech2Text2ForCausalLM', 'TransfoXLLMHeadModel', 'TrOCRForCausalLM', 'WhisperForCausalLM', 'XGLMForCausalLM', 'XLMWithLMHeadModel', 'XLMProphetNetForCausalLM', 'XLMRobertaForCausalLM', 'XLMRobertaXLForCausalLM', 'XLNetLMHeadModel', 'XmodForCausalLM'].\n"
     ]
    }
   ],
   "source": [
    "# Load model with PEFT adapter\n",
    "model = AutoPeftModelForCausalLM.from_pretrained(\n",
    "    ADAPTER_ID,\n",
    "    torch_dtype=torch.float16,\n",
    "    low_cpu_mem_usage=True,\n",
    "    device_map=device,\n",
    ")\n",
    "\n",
    "tokenizer = AutoTokenizer.from_pretrained(ADAPTER_ID)\n",
    "\n",
    "# Load merged model into pipeline\n",
    "pipe = pipeline(\n",
    "    task=\"text-generation\", \n",
    "    model=model, \n",
    "    tokenizer=tokenizer\n",
    ")"
   ]
  },
  {
   "cell_type": "code",
   "execution_count": 4,
   "metadata": {},
   "outputs": [
    {
     "name": "stderr",
     "output_type": "stream",
     "text": [
      "100%|██████████| 100/100 [07:02<00:00,  4.22s/it]\n",
      "100%|██████████| 100/100 [00:00<00:00, 10599.44it/s]\n"
     ]
    }
   ],
   "source": [
    "# Generate Preds & targets\n",
    "NUM_SAMPLES = 100\n",
    "sample_prompts = test_prompts.shuffle().select(range(NUM_SAMPLES))\n",
    "preds = get_preds(sample_prompts, pipe)\n",
    "targets = get_labels(sample_prompts)"
   ]
  },
  {
   "cell_type": "code",
   "execution_count": 5,
   "metadata": {},
   "outputs": [
    {
     "name": "stdout",
     "output_type": "stream",
     "text": [
      "similar.\n",
      "similar\n",
      "similar\n",
      "similar\n",
      "similar.\n",
      "similar\n",
      "similar\n",
      "similar\n",
      "similar\n",
      "similar\n",
      "similar\n",
      "similar\n",
      "similar\n",
      "similar\n",
      "similar\n",
      "similar\n",
      "similar.\n",
      "similar\n",
      "different\n",
      "similar\n",
      "similar\n",
      "similar\n",
      "similar\n",
      "similar.\n",
      "different\n",
      "different\n",
      "similar\n",
      "similar\n",
      "different\n",
      "different\n",
      "similar.\n",
      "similar\n",
      "similar.\n",
      "similar\n",
      "similar\n",
      "similar\n",
      "similar.\n",
      "similar\n",
      "similar\n",
      "similar\n",
      "similar\n",
      "different\n",
      "different\n",
      "similar\n",
      "similar\n",
      "similar\n",
      "similar\n",
      "similar\n",
      "similar\n",
      "similar\n",
      "similar\n",
      "similar\n",
      "similar\n",
      "similar\n",
      "similar\n",
      "similar\n",
      "similar\n",
      "different\n",
      "similar.\n",
      "different\n",
      "similar\n",
      "similar\n",
      "similar\n",
      "similar.\n",
      "similar\n",
      "similar\n",
      "similar\n",
      "similar\n",
      "similar\n",
      "similar\n",
      "similar\n",
      "similar\n",
      "similar\n",
      "similar\n",
      "similar\n",
      "similar\n",
      "similar\n",
      "similar.\n",
      "similar\n",
      "different\n",
      "similar\n",
      "different\n",
      "similar\n",
      "different\n",
      "similar\n",
      "different\n",
      "similar\n",
      "similar\n",
      "different\n",
      "similar\n",
      "similar\n",
      "similar\n",
      "similar\n",
      "similar\n",
      "similar\n",
      "similar\n",
      "similar.\n",
      "similar.\n",
      "similar\n",
      "similar\n"
     ]
    }
   ],
   "source": [
    "# Evaluate with strong-LLM as judge\n",
    "responses = evaluate(preds, targets)"
   ]
  },
  {
   "cell_type": "code",
   "execution_count": 6,
   "metadata": {},
   "outputs": [
    {
     "name": "stdout",
     "output_type": "stream",
     "text": [
      "Accuracy: 86.00%\n"
     ]
    }
   ],
   "source": [
    "# Calculate accuracy\n",
    "accuracy = responses.count('similar')/len(responses)\n",
    "\n",
    "print(f\"Accuracy: {accuracy*100:.2f}%\")"
   ]
  }
 ],
 "metadata": {
  "kernelspec": {
   "display_name": "Python 3.9.16 ('.venv': venv)",
   "language": "python",
   "name": "python3"
  },
  "language_info": {
   "codemirror_mode": {
    "name": "ipython",
    "version": 3
   },
   "file_extension": ".py",
   "mimetype": "text/x-python",
   "name": "python",
   "nbconvert_exporter": "python",
   "pygments_lexer": "ipython3",
   "version": "3.9.16"
  },
  "orig_nbformat": 4,
  "vscode": {
   "interpreter": {
    "hash": "9a2a67ec8613d4fe838519aa4301bcae5e92cc04c78068c58b9a9e1e7c71b4d1"
   }
  }
 },
 "nbformat": 4,
 "nbformat_minor": 2
}
